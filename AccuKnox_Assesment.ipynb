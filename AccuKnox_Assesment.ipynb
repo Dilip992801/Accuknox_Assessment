{
 "cells": [
  {
   "cell_type": "markdown",
   "metadata": {},
   "source": [
    "::Django Signal Topic Assessment::\n",
    "\n",
    "Question 1:\n",
    "By default are django signals executed synchronously or asynchronously? Please support your answer with a code snippet that conclusively proves your stance. The code does not need to be elegant and production ready, we just need to understand your logic.\n",
    " \n",
    "Answer:"
   ]
  },
  {
   "cell_type": "code",
   "execution_count": null,
   "metadata": {},
   "outputs": [],
   "source": [
    "from django.db.models.signals import post_save\n",
    "from django.dispatch import receiver\n",
    "from django.db import models\n",
    "\n",
    "class MyModel(models.Model):\n",
    "    name = models.CharField(max_length=100)\n",
    "\n",
    "@receiver(post_save, sender=MyModel)\n",
    "def my_signal_handler(sender, instance, **kwargs):\n",
    "    print(\"Signal received for:\", instance.name)\n",
    "\n",
    "# Creating an instance of MyModel\n",
    "obj = MyModel.objects.create(name=\"Test\")\n",
    "print(\"Object created\")  # This will be displayed after the signal handler finishes\n"
   ]
  },
  {
   "cell_type": "markdown",
   "metadata": {},
   "source": [
    "Explanation for above:\n",
    "when a signal is sent, the connected receivers are executed one by one in the same order in which they\n",
    "were connected, and the signal sender waits for all receivers to finish before continuing execution.\n",
    "A synchronous signal is sent and controlled immediately when the event occurs, before the\n",
    "sender resumes its execution. After the sender completes its execution, an asynchronous\n",
    "signal is sent and handled later. Depending on the use case, Django provides both types of\n",
    "signals.\n",
    "\n",
    "The code defines a Django model MyModel with a name field.\n",
    "A signal handler function, my_signal_handler, is connected to the post_save signal of MyModel using the @receiver decorator.\n",
    "When an instance of MyModel is created (obj = MyModel.objects.create(name=\"Test\")), the post_save signal is fired, and the signal handler is called. The handler prints a message that shows the name of the instance.\n",
    "The message \"Object created\" will only appear after the signal handler has been executed, demonstrating the synchronous nature of signals."
   ]
  },
  {
   "cell_type": "markdown",
   "metadata": {},
   "source": [
    "------------------------------------------------------------------------------------------------------------------------------------------------------------------------------------------------------------------------------------------------------------------------------------------------------------\n",
    "Question 2: \n",
    "Do django signals run in the same thread as the caller? Please support your answer with a code snippet that conclusively proves your stance. The code does not need to be elegant and production ready, we just need to understand your logic.\n",
    "\n",
    "Answer:\n",
    "Django signals typically run in the same thread as the caller. Since signals are executed synchronously by default, the signal handlers are executed in the same thread that triggers the signal. To prove this, we can use Python’s threading module to check the thread identifiers of both the signal caller and the signal handler."
   ]
  },
  {
   "cell_type": "code",
   "execution_count": null,
   "metadata": {},
   "outputs": [],
   "source": [
    "import threading\n",
    "from django.db.models.signals import post_save\n",
    "from django.dispatch import receiver\n",
    "from django.db import models\n",
    "\n",
    "class MyModel(models.Model):\n",
    "    name = models.CharField(max_length=100)\n",
    "\n",
    "@receiver(post_save, sender=MyModel)\n",
    "def my_signal_handler(sender, instance, **kwargs):\n",
    "    print(\"Signal received in thread:\", threading.get_ident())\n",
    "\n",
    "# Creating an instance of MyModel\n",
    "print(\"Object creation in thread:\", threading.get_ident())\n",
    "obj = MyModel.objects.create(name=\"Test\")\n"
   ]
  },
  {
   "cell_type": "markdown",
   "metadata": {},
   "source": [
    "Explanation For Above code:\n",
    "We import threading.get_ident() to retrieve the unique identifier of the current thread.\n",
    "When creating an instance of MyModel, we print the thread identifier where the instance creation occurs.\n",
    "In the signal handler my_signal_handler, we also print the thread identifier when the signal is triggered."
   ]
  },
  {
   "cell_type": "markdown",
   "metadata": {},
   "source": [
    "------------------------------------------------------------------------------------------------------------------------------------------------------------------------------------------------------------------------------------------------------------------------------------------------------------\n",
    "Question 3:\n",
    "By default do django signals run in the same database transaction as the caller? Please support your answer with a code snippet that conclusively proves your stance. The code does not need to be elegant and production ready, we just need to understand your logic.\n",
    "\n",
    "Answer:\n",
    "Django signals do not run in the same database transaction as the caller, unless they are explicitly wrapped in a transaction. This means that signals, such as post_save, are executed after the database transaction has been committed, and the changes have been saved to the database. If the transaction fails or is rolled back, the signal handlers will not be executed unless the signal itself is triggered within a transaction block.\n",
    "To prove this, we can use a code snippet that demonstrates how signals behave when a database transaction is rolled back. We'll use Django's transaction.atomic() to manage the transaction and simulate a rollback."
   ]
  },
  {
   "cell_type": "code",
   "execution_count": null,
   "metadata": {},
   "outputs": [],
   "source": [
    "from django.db import models, transaction\n",
    "from django.db.models.signals import post_save\n",
    "from django.dispatch import receiver\n",
    "\n",
    "class MyModel(models.Model):\n",
    "    name = models.CharField(max_length=100)\n",
    "\n",
    "@receiver(post_save, sender=MyModel)\n",
    "def my_signal_handler(sender, instance, **kwargs):\n",
    "    print(\"Signal received for:\", instance.name)\n",
    "\n",
    "# Simulating a rollback within a transaction\n",
    "try:\n",
    "    with transaction.atomic():\n",
    "        print(\"Creating an instance of MyModel...\")\n",
    "        obj = MyModel.objects.create(name=\"Test\")\n",
    "        print(\"Instance created, but raising an exception to rollback transaction.\")\n",
    "        raise Exception(\"Rolling back transaction\")\n",
    "except Exception as e:\n",
    "    print(\"Transaction rolled back:\", str(e))"
   ]
  },
  {
   "cell_type": "markdown",
   "metadata": {},
   "source": [
    "Explanation for above code:\n",
    "We define a simple model MyModel and connect a signal handler my_signal_handler to the post_save signal.\n",
    "Inside the transaction.atomic() block, we attempt to create an instance of MyModel.\n",
    "After the instance is created, we force an exception to trigger a rollback, simulating a failed transaction.\n",
    "The post_save signal will still be called, but the creation of the object will not persist in the database due to the rollback.\n",
    "\n",
    "Conclusion:\n",
    "The signal handler my_signal_handler is still called after the object creation, but since the transaction is rolled back, the object will not persist in the database. This demonstrates that, by default, Django signals are not automatically tied to the transaction lifecycle, meaning they are called even if the transaction fails. If you want signals to be triggered only after a successful commit, you should use the transaction.on_commit() hook. \n",
    "example code:"
   ]
  },
  {
   "cell_type": "code",
   "execution_count": null,
   "metadata": {},
   "outputs": [],
   "source": [
    "from django.db import transaction\n",
    "\n",
    "@receiver(post_save, sender=MyModel)\n",
    "def my_signal_handler(sender, instance, **kwargs):\n",
    "    transaction.on_commit(lambda: print(\"Signal received after commit for:\", instance.name))"
   ]
  },
  {
   "cell_type": "markdown",
   "metadata": {},
   "source": [
    "------------------------------------------------------------------------------------------------------------------------------------------------------------------------------------------------------------------------------------------------------------------------------------------------------------"
   ]
  },
  {
   "cell_type": "markdown",
   "metadata": {},
   "source": [
    "------------------------------------------------------------------------------------------------------------------------------------------------------------------------------------------------------------------------------------------------------------------------------------------------------------"
   ]
  },
  {
   "cell_type": "markdown",
   "metadata": {},
   "source": [
    "::Custom Class Topic Assessment::\n",
    "\n",
    "Description: You are tasked with creating a Rectangle class with the following requirements:\n",
    "\n",
    "An instance of the Rectangle class requires length:int and width:int to be initialized.\n",
    "We can iterate over an instance of the Rectangle class \n",
    "When an instance of the Rectangle class is iterated over, we first get its length in the format: {'length': <VALUE_OF_LENGTH>} followed by the width {width: <VALUE_OF_WIDTH>}\n",
    "\n",
    "\n",
    "Answer:"
   ]
  },
  {
   "cell_type": "code",
   "execution_count": null,
   "metadata": {},
   "outputs": [],
   "source": [
    "class Rectangle:\n",
    "    def __init__(self, length: int, width: int):\n",
    "        self.length = length\n",
    "        self.width = width\n",
    "        self._data = [{'length': self.length}, {'width': self.width}]\n",
    "        self._index = 0  # Initialize the index for iteration\n",
    "    \n",
    "    def __iter__(self):\n",
    "        self._index = 0  # Reset index when iteration starts\n",
    "        return self\n",
    "\n",
    "    def __next__(self):\n",
    "        if self._index < len(self._data):\n",
    "            result = self._data[self._index]\n",
    "            self._index += 1\n",
    "            return result\n",
    "        else:\n",
    "            raise StopIteration  # Raise exception when all data is iterated over\n",
    "\n",
    "# Example usage\n",
    "rect = Rectangle(10, 5)\n",
    "for item in rect:\n",
    "    print(item)"
   ]
  },
  {
   "cell_type": "markdown",
   "metadata": {},
   "source": [
    "Explanation For Above Code:\n",
    "\n",
    "__init__() method: The class is initialized with length and width. These values are stored in the _data list in the required format ({'length': <VALUE>} and {'width': <VALUE>}), which the iterator will return.\n",
    "__iter__() method: This method resets the iteration by setting _index to 0. It also returns the instance itself as an iterator.\n",
    "__next__() method: This method returns the next value in the _data list. If all items have been returned, it raises the StopIteration exception to stop the iteration."
   ]
  }
 ],
 "metadata": {
  "language_info": {
   "name": "python"
  }
 },
 "nbformat": 4,
 "nbformat_minor": 2
}
